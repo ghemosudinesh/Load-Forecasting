{
 "cells": [
  {
   "cell_type": "code",
   "execution_count": 1,
   "id": "bbfe65b3",
   "metadata": {},
   "outputs": [
    {
     "name": "stderr",
     "output_type": "stream",
     "text": [
      "2023-08-08 09:40:21.367788: I tensorflow/core/platform/cpu_feature_guard.cc:182] This TensorFlow binary is optimized to use available CPU instructions in performance-critical operations.\n",
      "To enable the following instructions: AVX2 AVX512F FMA, in other operations, rebuild TensorFlow with the appropriate compiler flags.\n",
      "2023-08-08 09:40:22.259938: W tensorflow/compiler/tf2tensorrt/utils/py_utils.cc:38] TF-TRT Warning: Could not find TensorRT\n"
     ]
    }
   ],
   "source": [
    "import numpy as np\n",
    "import pandas as pd\n",
    "import matplotlib.pyplot as plt\n",
    "%matplotlib inline\n",
    "\n",
    "from sklearn.model_selection import train_test_split\n",
    "from sklearn.preprocessing import MinMaxScaler\n",
    "from keras.models import Sequential\n",
    "from keras.layers import LSTM, Dense, Dropout\n",
    "\n",
    "from sklearn.metrics import mean_squared_error, mean_absolute_error, r2_score\n",
    "\n",
    "from keras.utils import plot_model\n",
    "from keras import backend as K\n"
   ]
  },
  {
   "cell_type": "code",
   "execution_count": 2,
   "id": "de7710f8",
   "metadata": {},
   "outputs": [
    {
     "data": {
      "text/html": [
       "<div>\n",
       "<style scoped>\n",
       "    .dataframe tbody tr th:only-of-type {\n",
       "        vertical-align: middle;\n",
       "    }\n",
       "\n",
       "    .dataframe tbody tr th {\n",
       "        vertical-align: top;\n",
       "    }\n",
       "\n",
       "    .dataframe thead th {\n",
       "        text-align: right;\n",
       "    }\n",
       "</style>\n",
       "<table border=\"1\" class=\"dataframe\">\n",
       "  <thead>\n",
       "    <tr style=\"text-align: right;\">\n",
       "      <th></th>\n",
       "      <th>Date</th>\n",
       "      <th>Load</th>\n",
       "      <th>GDP Growth</th>\n",
       "      <th>per capita GDP us dollar</th>\n",
       "      <th>Access to electricty(% population)</th>\n",
       "      <th>min temp c</th>\n",
       "      <th>meantemp c</th>\n",
       "      <th>max temp c</th>\n",
       "      <th>precipitation(mm)</th>\n",
       "      <th>No of consumer</th>\n",
       "      <th>Total Availiability (GWH)</th>\n",
       "      <th>year</th>\n",
       "      <th>month</th>\n",
       "      <th>day</th>\n",
       "    </tr>\n",
       "  </thead>\n",
       "  <tbody>\n",
       "    <tr>\n",
       "      <th>0</th>\n",
       "      <td>2012-04-13</td>\n",
       "      <td>900.8</td>\n",
       "      <td>4.670142</td>\n",
       "      <td>794.092559</td>\n",
       "      <td>75.21</td>\n",
       "      <td>8.17</td>\n",
       "      <td>15.41</td>\n",
       "      <td>22.69</td>\n",
       "      <td>50.32</td>\n",
       "      <td>2324414</td>\n",
       "      <td>4178</td>\n",
       "      <td>2012</td>\n",
       "      <td>4</td>\n",
       "      <td>13</td>\n",
       "    </tr>\n",
       "    <tr>\n",
       "      <th>1</th>\n",
       "      <td>2012-04-14</td>\n",
       "      <td>889.0</td>\n",
       "      <td>4.670142</td>\n",
       "      <td>794.092559</td>\n",
       "      <td>75.21</td>\n",
       "      <td>8.17</td>\n",
       "      <td>15.41</td>\n",
       "      <td>22.69</td>\n",
       "      <td>50.32</td>\n",
       "      <td>2324414</td>\n",
       "      <td>4178</td>\n",
       "      <td>2012</td>\n",
       "      <td>4</td>\n",
       "      <td>14</td>\n",
       "    </tr>\n",
       "    <tr>\n",
       "      <th>2</th>\n",
       "      <td>2012-04-15</td>\n",
       "      <td>902.6</td>\n",
       "      <td>4.670142</td>\n",
       "      <td>794.092559</td>\n",
       "      <td>75.21</td>\n",
       "      <td>8.17</td>\n",
       "      <td>15.41</td>\n",
       "      <td>22.69</td>\n",
       "      <td>50.32</td>\n",
       "      <td>2324414</td>\n",
       "      <td>4178</td>\n",
       "      <td>2012</td>\n",
       "      <td>4</td>\n",
       "      <td>15</td>\n",
       "    </tr>\n",
       "    <tr>\n",
       "      <th>3</th>\n",
       "      <td>2012-04-16</td>\n",
       "      <td>683.0</td>\n",
       "      <td>4.670142</td>\n",
       "      <td>794.092559</td>\n",
       "      <td>75.21</td>\n",
       "      <td>8.17</td>\n",
       "      <td>15.41</td>\n",
       "      <td>22.69</td>\n",
       "      <td>50.32</td>\n",
       "      <td>2324414</td>\n",
       "      <td>4178</td>\n",
       "      <td>2012</td>\n",
       "      <td>4</td>\n",
       "      <td>16</td>\n",
       "    </tr>\n",
       "    <tr>\n",
       "      <th>4</th>\n",
       "      <td>2012-04-17</td>\n",
       "      <td>816.2</td>\n",
       "      <td>4.670142</td>\n",
       "      <td>794.092559</td>\n",
       "      <td>75.21</td>\n",
       "      <td>8.17</td>\n",
       "      <td>15.41</td>\n",
       "      <td>22.69</td>\n",
       "      <td>50.32</td>\n",
       "      <td>2324414</td>\n",
       "      <td>4178</td>\n",
       "      <td>2012</td>\n",
       "      <td>4</td>\n",
       "      <td>17</td>\n",
       "    </tr>\n",
       "  </tbody>\n",
       "</table>\n",
       "</div>"
      ],
      "text/plain": [
       "        Date   Load  GDP Growth  per capita GDP us dollar  \\\n",
       "0 2012-04-13  900.8    4.670142                794.092559   \n",
       "1 2012-04-14  889.0    4.670142                794.092559   \n",
       "2 2012-04-15  902.6    4.670142                794.092559   \n",
       "3 2012-04-16  683.0    4.670142                794.092559   \n",
       "4 2012-04-17  816.2    4.670142                794.092559   \n",
       "\n",
       "   Access to electricty(% population)  min temp c  meantemp c  max temp c  \\\n",
       "0                               75.21        8.17       15.41       22.69   \n",
       "1                               75.21        8.17       15.41       22.69   \n",
       "2                               75.21        8.17       15.41       22.69   \n",
       "3                               75.21        8.17       15.41       22.69   \n",
       "4                               75.21        8.17       15.41       22.69   \n",
       "\n",
       "   precipitation(mm)  No of consumer  Total Availiability (GWH)  year  month  \\\n",
       "0              50.32         2324414                       4178  2012      4   \n",
       "1              50.32         2324414                       4178  2012      4   \n",
       "2              50.32         2324414                       4178  2012      4   \n",
       "3              50.32         2324414                       4178  2012      4   \n",
       "4              50.32         2324414                       4178  2012      4   \n",
       "\n",
       "   day  \n",
       "0   13  \n",
       "1   14  \n",
       "2   15  \n",
       "3   16  \n",
       "4   17  "
      ]
     },
     "execution_count": 2,
     "metadata": {},
     "output_type": "execute_result"
    }
   ],
   "source": [
    "# Load your dataset here (assuming it's in CSV format, adjust accordingly)\n",
    "df = pd.read_csv('data_interpolated.csv')\n",
    "df = df.drop(columns=['Sno', 'day'])\n",
    "\n",
    "# Convert 'timestamp' column to pandas datetime format\n",
    "df['Date'] = pd.to_datetime(df['Date'])\n",
    "# Extract year, month, and day into separate columns\n",
    "df['year'] = df['Date'].dt.year\n",
    "df['month'] = df['Date'].dt.month\n",
    "df['day'] = df['Date'].dt.day\n",
    "df.head()\n"
   ]
  },
  {
   "cell_type": "code",
   "execution_count": null,
   "id": "3681816d",
   "metadata": {},
   "outputs": [],
   "source": []
  },
  {
   "cell_type": "code",
   "execution_count": 3,
   "id": "6e3d061c",
   "metadata": {},
   "outputs": [],
   "source": [
    "# Assuming you have a 'timestamp' column and a 'load' column in your dataset\n",
    "timestamps = df['Date'].values\n",
    "load_values = df['Load'].values\n",
    "\n",
    "# Normalize the data between 0 and 1 (LSTM models perform better with scaled data)\n",
    "scaler = MinMaxScaler(feature_range=(0, 1))\n",
    "scaled_load_values = scaler.fit_transform(load_values.reshape(-1, 1))\n"
   ]
  },
  {
   "cell_type": "code",
   "execution_count": 4,
   "id": "771592fb",
   "metadata": {},
   "outputs": [
    {
     "data": {
      "text/plain": [
       "(3933, 1)"
      ]
     },
     "execution_count": 4,
     "metadata": {},
     "output_type": "execute_result"
    }
   ],
   "source": [
    "scaled_load_values.shape"
   ]
  },
  {
   "cell_type": "code",
   "execution_count": 5,
   "id": "61e637b4",
   "metadata": {},
   "outputs": [
    {
     "data": {
      "text/plain": [
       "array([[0.3026314 ],\n",
       "       [0.29441264],\n",
       "       [0.3038851 ],\n",
       "       ...,\n",
       "       [0.93937621],\n",
       "       [0.85649212],\n",
       "       [0.90106844]])"
      ]
     },
     "execution_count": 5,
     "metadata": {},
     "output_type": "execute_result"
    }
   ],
   "source": [
    "scaled_load_values"
   ]
  },
  {
   "cell_type": "code",
   "execution_count": 6,
   "id": "7402d2fa",
   "metadata": {},
   "outputs": [
    {
     "name": "stdout",
     "output_type": "stream",
     "text": [
      "Shape of scaled load values:  (3933, 1)\n"
     ]
    }
   ],
   "source": [
    "print(\"Shape of scaled load values: \", scaled_load_values.shape)"
   ]
  },
  {
   "cell_type": "code",
   "execution_count": 7,
   "id": "c6631cb9",
   "metadata": {},
   "outputs": [],
   "source": [
    "# Define the number of time steps (lookback) to consider for each prediction\n",
    "lookback = 30  # For example, use the last 24 hours to predict the next hour's load\n",
    "\n",
    "X, y = [], []\n",
    "for i in range(lookback, len(scaled_load_values)):\n",
    "    X.append(scaled_load_values[i - lookback:i, 0])\n",
    "    y.append(scaled_load_values[i, 0])\n",
    "\n",
    "X, y = np.array(X), np.array(y)\n",
    "\n",
    "# Reshape the input data to match LSTM input shape (samples, time steps, features)\n",
    "X = np.reshape(X, (X.shape[0], X.shape[1], 1))\n"
   ]
  },
  {
   "cell_type": "code",
   "execution_count": 8,
   "id": "bab95d2c",
   "metadata": {},
   "outputs": [
    {
     "name": "stdout",
     "output_type": "stream",
     "text": [
      "(3903, 30, 1)\n",
      "(3903,)\n"
     ]
    }
   ],
   "source": [
    "print(X.shape)\n",
    "print(y.shape)"
   ]
  },
  {
   "cell_type": "code",
   "execution_count": 9,
   "id": "48c5c960",
   "metadata": {},
   "outputs": [
    {
     "data": {
      "text/plain": [
       "30"
      ]
     },
     "execution_count": 9,
     "metadata": {},
     "output_type": "execute_result"
    }
   ],
   "source": [
    "len(X[0])"
   ]
  },
  {
   "cell_type": "markdown",
   "id": "b8411088",
   "metadata": {},
   "source": [
    "# Train test split"
   ]
  },
  {
   "cell_type": "code",
   "execution_count": 10,
   "id": "ea7a9ad6",
   "metadata": {},
   "outputs": [],
   "source": [
    "X_train, X_test, y_train, y_test = train_test_split(X, y, test_size=0.2, random_state=42)"
   ]
  },
  {
   "cell_type": "code",
   "execution_count": 11,
   "id": "d008fa36",
   "metadata": {},
   "outputs": [
    {
     "name": "stdout",
     "output_type": "stream",
     "text": [
      "Shape of X_train:  (3122, 30, 1)\n",
      "Shape of X_test:  (781, 30, 1)\n",
      "Shape of y_train:  (3122,)\n",
      "Shape of y_test:  (781,)\n"
     ]
    }
   ],
   "source": [
    "print(\"Shape of X_train: \", X_train.shape)\n",
    "print(\"Shape of X_test: \", X_test.shape)\n",
    "print(\"Shape of y_train: \", y_train.shape)\n",
    "print(\"Shape of y_test: \", y_test.shape)\n"
   ]
  },
  {
   "cell_type": "code",
   "execution_count": null,
   "id": "91be406c",
   "metadata": {},
   "outputs": [],
   "source": [
    "# Build the LSTM Model\n",
    "model = Sequential()\n",
    "model.add(LSTM(50, return_sequences=True, input_shape=(X.shape[1], 1)))\n",
    "model.add(Dropout(0.2))  # Add a dropout layer with a dropout rate of 0.2\n",
    "model.add(LSTM(50, return_sequences=True))\n",
    "model.add(Dropout(0.2))  # Add a dropout layer with a dropout rate of 0.2\n",
    "model.add(LSTM(50))\n",
    "model.add(Dropout(0.2))  # Add a dropout layer with a dropout rate of 0.2\n",
    "model.add(Dense(1))\n",
    "model.compile(loss='mean_squared_error', optimizer='adam')\n",
    "\n",
    "# model.summary()\n",
    "# plot_model(model, to_file='LSTM_Model_Load_Forecating.png', show_shapes = True)\n"
   ]
  },
  {
   "cell_type": "code",
   "execution_count": null,
   "id": "0f2dadeb",
   "metadata": {},
   "outputs": [],
   "source": [
    "# Training parameters\n",
    "epochs = 100\n",
    "batch_size = 32\n",
    "\n",
    "history = model.fit(X_train, \n",
    "                    y_train, \n",
    "                    epochs=epochs, \n",
    "                    batch_size=batch_size, \n",
    "                    validation_split = 0.2 )"
   ]
  },
  {
   "cell_type": "code",
   "execution_count": null,
   "id": "be802c9a",
   "metadata": {},
   "outputs": [],
   "source": [
    "model.save(\"LSTM_LoadForecasting_100_Epoch.h5\")"
   ]
  },
  {
   "cell_type": "code",
   "execution_count": null,
   "id": "c7e7b646",
   "metadata": {},
   "outputs": [],
   "source": [
    "def plot_train_validation_graph(history, file_name):\n",
    "    # acc = history.history['accuracy']\n",
    "    # val_acc = history.history['val_accuracy']\n",
    "\n",
    "    loss = history.history['loss']\n",
    "    val_loss = history.history['val_loss']\n",
    "\n",
    "    epochs_range = range(len(loss))\n",
    "\n",
    "    plt.figure(figsize=(6, 6), dpi=100)\n",
    "    # plt.subplot(2, 1, 1)\n",
    "    # plt.plot(epochs_range, acc, label='Training Accuracy', color='g')\n",
    "    # plt.plot(epochs_range, val_acc, label='Validation Accuracy', color='r')\n",
    "    # plt.xlabel('Epoches')\n",
    "    # plt.ylabel('Score')\n",
    "    # plt.legend(loc='lower right')\n",
    "    # plt.title('Training and Validation Accuracy')\n",
    "\n",
    "    # plt.subplot(2, 1, 2)\n",
    "    plt.plot(epochs_range, loss, label='Training Loss')\n",
    "    plt.plot(epochs_range, val_loss, label='Validation Loss')\n",
    "    plt.legend(loc='upper right')\n",
    "    plt.xlabel('Epoches')\n",
    "    plt.ylabel('MSE')\n",
    "    plt.title('Training Vs Validation Loss')\n",
    "    plt.savefig(file_name + \".png\")\n",
    "    plt.tight_layout(pad=1.0)\n",
    "    plt.grid(True)\n",
    "    plt.legend()\n",
    "    plt.show()"
   ]
  },
  {
   "cell_type": "code",
   "execution_count": null,
   "id": "bc93c8cf",
   "metadata": {},
   "outputs": [],
   "source": [
    "plot_train_validation_graph(history, \"Training_vs_Validation_curve_LSTM_100_epoch\")"
   ]
  },
  {
   "cell_type": "markdown",
   "id": "c6640dfa",
   "metadata": {},
   "source": [
    "# Prediction"
   ]
  },
  {
   "cell_type": "code",
   "execution_count": 13,
   "id": "b661cc76",
   "metadata": {},
   "outputs": [
    {
     "name": "stderr",
     "output_type": "stream",
     "text": [
      "2023-08-03 06:35:02.843465: I tensorflow/core/common_runtime/executor.cc:1197] [/device:CPU:0] (DEBUG INFO) Executor start aborting (this does not indicate an error and you can ignore this message): INVALID_ARGUMENT: You must feed a value for placeholder tensor 'gradients/split_2_grad/concat/split_2/split_dim' with dtype int32\n",
      "\t [[{{node gradients/split_2_grad/concat/split_2/split_dim}}]]\n",
      "2023-08-03 06:35:02.846072: I tensorflow/core/common_runtime/executor.cc:1197] [/device:CPU:0] (DEBUG INFO) Executor start aborting (this does not indicate an error and you can ignore this message): INVALID_ARGUMENT: You must feed a value for placeholder tensor 'gradients/split_grad/concat/split/split_dim' with dtype int32\n",
      "\t [[{{node gradients/split_grad/concat/split/split_dim}}]]\n",
      "2023-08-03 06:35:02.847826: I tensorflow/core/common_runtime/executor.cc:1197] [/device:CPU:0] (DEBUG INFO) Executor start aborting (this does not indicate an error and you can ignore this message): INVALID_ARGUMENT: You must feed a value for placeholder tensor 'gradients/split_1_grad/concat/split_1/split_dim' with dtype int32\n",
      "\t [[{{node gradients/split_1_grad/concat/split_1/split_dim}}]]\n",
      "2023-08-03 06:35:03.042768: I tensorflow/core/common_runtime/executor.cc:1197] [/device:CPU:0] (DEBUG INFO) Executor start aborting (this does not indicate an error and you can ignore this message): INVALID_ARGUMENT: You must feed a value for placeholder tensor 'gradients/split_2_grad/concat/split_2/split_dim' with dtype int32\n",
      "\t [[{{node gradients/split_2_grad/concat/split_2/split_dim}}]]\n",
      "2023-08-03 06:35:03.044212: I tensorflow/core/common_runtime/executor.cc:1197] [/device:CPU:0] (DEBUG INFO) Executor start aborting (this does not indicate an error and you can ignore this message): INVALID_ARGUMENT: You must feed a value for placeholder tensor 'gradients/split_grad/concat/split/split_dim' with dtype int32\n",
      "\t [[{{node gradients/split_grad/concat/split/split_dim}}]]\n",
      "2023-08-03 06:35:03.045463: I tensorflow/core/common_runtime/executor.cc:1197] [/device:CPU:0] (DEBUG INFO) Executor start aborting (this does not indicate an error and you can ignore this message): INVALID_ARGUMENT: You must feed a value for placeholder tensor 'gradients/split_1_grad/concat/split_1/split_dim' with dtype int32\n",
      "\t [[{{node gradients/split_1_grad/concat/split_1/split_dim}}]]\n",
      "2023-08-03 06:35:03.248497: I tensorflow/core/common_runtime/executor.cc:1197] [/device:CPU:0] (DEBUG INFO) Executor start aborting (this does not indicate an error and you can ignore this message): INVALID_ARGUMENT: You must feed a value for placeholder tensor 'gradients/split_2_grad/concat/split_2/split_dim' with dtype int32\n",
      "\t [[{{node gradients/split_2_grad/concat/split_2/split_dim}}]]\n",
      "2023-08-03 06:35:03.251109: I tensorflow/core/common_runtime/executor.cc:1197] [/device:CPU:0] (DEBUG INFO) Executor start aborting (this does not indicate an error and you can ignore this message): INVALID_ARGUMENT: You must feed a value for placeholder tensor 'gradients/split_grad/concat/split/split_dim' with dtype int32\n",
      "\t [[{{node gradients/split_grad/concat/split/split_dim}}]]\n",
      "2023-08-03 06:35:03.252714: I tensorflow/core/common_runtime/executor.cc:1197] [/device:CPU:0] (DEBUG INFO) Executor start aborting (this does not indicate an error and you can ignore this message): INVALID_ARGUMENT: You must feed a value for placeholder tensor 'gradients/split_1_grad/concat/split_1/split_dim' with dtype int32\n",
      "\t [[{{node gradients/split_1_grad/concat/split_1/split_dim}}]]\n"
     ]
    },
    {
     "name": "stdout",
     "output_type": "stream",
     "text": [
      "25/25 [==============================] - 1s 7ms/step\n"
     ]
    }
   ],
   "source": [
    "# Predict the load values\n",
    "predicted_scaled_load_values = model.predict(X_test)\n",
    "\n",
    "# Inverse transform to get actual load values\n",
    "predicted_load_values = scaler.inverse_transform(predicted_scaled_load_values)\n",
    "actual_load_values = scaler.inverse_transform(y_test.reshape(-1, 1))"
   ]
  },
  {
   "cell_type": "code",
   "execution_count": 18,
   "id": "b29edc57",
   "metadata": {},
   "outputs": [
    {
     "name": "stdout",
     "output_type": "stream",
     "text": [
      "Mean Squared Error: 18119.768624752036\n",
      "Root Mean Squared Error: 134.60968993631934\n",
      "Mean Absolute Error: 62.04809349195651\n",
      "R-squared Score: 0.7459582198734662\n"
     ]
    }
   ],
   "source": [
    "# Calculate evaluation metrics\n",
    "mse = mean_squared_error(actual_load_values, predicted_load_values)\n",
    "rmse = np.sqrt(mse)\n",
    "mae = mean_absolute_error(actual_load_values, predicted_load_values)\n",
    "r2 = r2_score(actual_load_values, predicted_load_values)\n",
    "\n",
    "print(\"Mean Squared Error:\", mse)\n",
    "print(\"Root Mean Squared Error:\", rmse)\n",
    "print(\"Mean Absolute Error:\", mae)\n",
    "print(\"R-squared Score:\", r2)"
   ]
  },
  {
   "cell_type": "markdown",
   "id": "8f3a768a",
   "metadata": {},
   "source": [
    "# Explanation"
   ]
  },
  {
   "cell_type": "code",
   "execution_count": 19,
   "id": "3f027e2d",
   "metadata": {},
   "outputs": [
    {
     "name": "stdout",
     "output_type": "stream",
     "text": [
      "Mean Squared Error (MSE): 18119.7686\n"
     ]
    }
   ],
   "source": [
    "from sklearn.metrics import mean_squared_error\n",
    "\n",
    "# Calculate the Mean Squared Error (MSE) between original and reconstructed images.\n",
    "mse = mean_squared_error( actual_load_values, predicted_load_values)\n",
    "print(f\"Mean Squared Error (MSE): {mse:.4f}\")"
   ]
  },
  {
   "cell_type": "markdown",
   "id": "c73ae107",
   "metadata": {},
   "source": [
    "### R-squared (R2) Score:\n",
    "R2 score represents the proportion of variance in the dependent variable (load) that is predictable from the independent variable (predictions). It ranges from 0 to 1, where 1 indicates a perfect fit."
   ]
  },
  {
   "cell_type": "code",
   "execution_count": 20,
   "id": "d7cd7e6b",
   "metadata": {},
   "outputs": [
    {
     "name": "stdout",
     "output_type": "stream",
     "text": [
      "R-squared Score: 0.7459582198734662\n"
     ]
    }
   ],
   "source": [
    "from sklearn.metrics import r2_score\n",
    "\n",
    "r2 = r2_score( actual_load_values, predicted_load_values)\n",
    "print(\"R-squared Score:\", r2)\n"
   ]
  },
  {
   "cell_type": "markdown",
   "id": "b8c2368e",
   "metadata": {},
   "source": [
    "### Explained Variance Score:\n",
    "Explained Variance Score measures the proportion of variance in the dependent variable (load) explained by the model's predictions."
   ]
  },
  {
   "cell_type": "code",
   "execution_count": 21,
   "id": "0682c762",
   "metadata": {},
   "outputs": [
    {
     "name": "stdout",
     "output_type": "stream",
     "text": [
      "Explained Variance Score: 0.7618843003652178\n"
     ]
    }
   ],
   "source": [
    "from sklearn.metrics import explained_variance_score\n",
    "\n",
    "explained_var = explained_variance_score( actual_load_values, predicted_load_values)\n",
    "print(\"Explained Variance Score:\", explained_var)\n"
   ]
  },
  {
   "cell_type": "markdown",
   "id": "925f5463",
   "metadata": {},
   "source": [
    "### Mean Absolute Error (MAE):\n",
    "MAE calculates the average absolute difference between the predicted and actual values. It is less sensitive to outliers compared to MSE."
   ]
  },
  {
   "cell_type": "code",
   "execution_count": 22,
   "id": "8f405206",
   "metadata": {},
   "outputs": [
    {
     "name": "stdout",
     "output_type": "stream",
     "text": [
      "Mean Absolute Error: 62.04809349195651\n"
     ]
    }
   ],
   "source": [
    "from sklearn.metrics import mean_absolute_error\n",
    "\n",
    "mae = mean_absolute_error( actual_load_values, predicted_load_values)\n",
    "print(\"Mean Absolute Error:\", mae)\n"
   ]
  },
  {
   "cell_type": "markdown",
   "id": "e3ec8463",
   "metadata": {},
   "source": [
    "### Root Mean Squared Error (RMSE):\n",
    "RMSE is the square root of MSE and gives an error metric in the same unit as the original data."
   ]
  },
  {
   "cell_type": "code",
   "execution_count": 23,
   "id": "eb9ef505",
   "metadata": {},
   "outputs": [
    {
     "name": "stdout",
     "output_type": "stream",
     "text": [
      "Root Mean Squared Error: 134.60968993631934\n"
     ]
    }
   ],
   "source": [
    "from sklearn.metrics import mean_squared_error\n",
    "\n",
    "rmse = np.sqrt(mean_squared_error(actual_load_values, predicted_load_values))\n",
    "print(\"Root Mean Squared Error:\", rmse)\n"
   ]
  },
  {
   "cell_type": "code",
   "execution_count": 24,
   "id": "091ac129",
   "metadata": {},
   "outputs": [
    {
     "data": {
      "text/plain": [
       "(799, 1)"
      ]
     },
     "execution_count": 24,
     "metadata": {},
     "output_type": "execute_result"
    }
   ],
   "source": [
    "actual_load_values.shape"
   ]
  },
  {
   "cell_type": "code",
   "execution_count": null,
   "id": "093d1c90",
   "metadata": {},
   "outputs": [],
   "source": []
  }
 ],
 "metadata": {
  "kernelspec": {
   "display_name": "Python 3 (ipykernel)",
   "language": "python",
   "name": "python3"
  },
  "language_info": {
   "codemirror_mode": {
    "name": "ipython",
    "version": 3
   },
   "file_extension": ".py",
   "mimetype": "text/x-python",
   "name": "python",
   "nbconvert_exporter": "python",
   "pygments_lexer": "ipython3",
   "version": "3.9.17"
  }
 },
 "nbformat": 4,
 "nbformat_minor": 5
}
